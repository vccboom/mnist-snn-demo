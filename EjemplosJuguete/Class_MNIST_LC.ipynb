{
 "cells": [
  {
   "cell_type": "code",
   "execution_count": 1,
   "metadata": {},
   "outputs": [],
   "source": [
    "import snntorch as snn\n",
    "import torch\n",
    "import torch.nn as nn\n",
    "import matplotlib.pyplot as plt\n",
    "import random\n",
    "from torchvision import datasets, transforms #\n",
    "from snntorch import utils\n",
    "from torch.utils.data import DataLoader\n",
    "from snntorch import spikegen\n",
    "import numpy as np"
   ]
  },
  {
   "cell_type": "code",
   "execution_count": 2,
   "metadata": {},
   "outputs": [],
   "source": [
    "data_path='/tmp/data/mnist'\n",
    "\n",
    "# Torch Variables\n",
    "dtype = torch.float       #para consumir menos memoria y asegurar compatibilidad con ciertas librerías que \n",
    "                          # esperan tensores de este tipo en luagr de 64 por ejemplo\n",
    "device = torch.device(\"cuda\") if torch.cuda.is_available() else torch.device(\"mps\") if torch.backends.mps.is_available() else torch.device(\"cpu\")\n",
    "transform = transforms.Compose([\n",
    "            transforms.ToTensor(),\n",
    "            transforms.Normalize((0,), (1,))])"
   ]
  },
  {
   "cell_type": "code",
   "execution_count": 3,
   "metadata": {},
   "outputs": [
    {
     "name": "stdout",
     "output_type": "stream",
     "text": [
      "The size of mnist_train is 60000\n",
      "The size of mnist_test is 10000\n",
      "The size of train_loader is 375\n",
      "The size of test_loader is 63\n"
     ]
    }
   ],
   "source": [
    "batch_size=160\n",
    "mnist_train = datasets.MNIST(data_path, train=True, download=True, transform=transform)\n",
    "mnist_test = datasets.MNIST(data_path, train=False, download=True, transform=transform)\n",
    "print(f\"The size of mnist_train is {len(mnist_train)}\")\n",
    "print(f\"The size of mnist_test is {len(mnist_test)}\")\n",
    "train_loader = DataLoader(mnist_train, batch_size=batch_size, shuffle=True)\n",
    "test_loader = DataLoader(mnist_test, batch_size=batch_size, shuffle=True)\n",
    "print(f\"The size of train_loader is {len(train_loader)}\")\n",
    "print(f\"The size of test_loader is {len(test_loader)}\")\n"
   ]
  },
  {
   "cell_type": "code",
   "execution_count": 27,
   "metadata": {},
   "outputs": [],
   "source": [
    "# Network Architecture\n",
    "num_inputs = 28*28    \n",
    "num_hidden = 64    # 64 100 50 128 256 512\n",
    "num_outputs = 10\n",
    "\n",
    "# Temporal Dynamics\n",
    "num_steps = 30                  #num_steps time steps 10 25 50 100 200\n",
    "beta = 0.95                     #ver qué pasa al cambiar el beta"
   ]
  },
  {
   "cell_type": "code",
   "execution_count": 38,
   "metadata": {},
   "outputs": [],
   "source": [
    "# Define Network\n",
    "class Net(nn.Module):\n",
    "    def __init__(self):\n",
    "        super().__init__()\n",
    "\n",
    "        # Initialize layers\n",
    "        self.fc1 = nn.Linear(num_inputs, num_hidden)\n",
    "        self.lif1 = snn.Leaky(beta=beta)     \n",
    "        self.fc2= nn.Linear(num_hidden, 64)  # Capa adicional\n",
    "        self.lif2 = snn.Leaky(beta=beta)               \n",
    "        self.fc3 = nn.Linear(64, num_outputs)\n",
    "        self.lif3 = snn.Leaky(beta=beta)\n",
    "\n",
    "    def forward(self, x):\n",
    "        # Initialize hidden states at t=0\n",
    "        mem1 = self.lif1.init_leaky()                                \n",
    "        mem2 = self.lif2.init_leaky()    \n",
    "        mem3 = self.lif3.init_leaky()                           \n",
    "\n",
    "        # Record the final layer\n",
    "        spk3_rec = []\n",
    "        mem3_rec = []\n",
    "        for step in range(num_steps):\n",
    "            cur1 = self.fc1(x[step])\n",
    "            spk1, mem1 = self.lif1(cur1, mem1)     #Aquí spk1 es el output donde en este caso es de tamaño batch, input_size. Es un array de 0s y 1s y para está dentro de un for de 25=num_steps de tiempo y mem es el potencial de membrana siguiente para cada elemento en el batch\n",
    "            cur2 = self.fc2(spk1)\n",
    "            spk2, mem2 = self.lif2(cur2, mem2)\n",
    "            cur3 = self.fc3(spk2)\n",
    "            spk3, mem3 = self.lif3(cur3, mem3)\n",
    "            spk3_rec.append(spk3)\n",
    "            mem3_rec.append(mem3)\n",
    "        return torch.stack(spk3_rec, dim=0), torch.stack(mem3_rec, dim=0)      # Son una secuencia de tensores y los apila en la dimensión 0 (tiempo). Dimensiones: mem_rec = [num_steps, batch_size, num_outputs]\n",
    "\n",
    "# Load the network onto CUDA if available\n",
    "net = Net().to(device)"
   ]
  },
  {
   "cell_type": "code",
   "execution_count": 39,
   "metadata": {},
   "outputs": [],
   "source": [
    "CE_loss = nn.CrossEntropyLoss()\n",
    "optimizer = torch.optim.Adam(net.parameters(), lr=5e-4, betas=(0.9, 0.999))"
   ]
  },
  {
   "cell_type": "code",
   "execution_count": 42,
   "metadata": {},
   "outputs": [
    {
     "name": "stdout",
     "output_type": "stream",
     "text": [
      "Epoch [1/1], Loss: 14.9164\n"
     ]
    }
   ],
   "source": [
    "# Training Parameters\n",
    "num_epochs = 1\n",
    "num_classes = 10  \n",
    "loss_hist = []\n",
    "test_loss_hist = []\n",
    "counter = 0\n",
    "# Entrenamiento del modelo\n",
    "for epoch in range(num_epochs):\n",
    "    net.train()\n",
    "    for data, targets in train_loader:\n",
    "        spike_data = spikegen.latency(data, num_steps=num_steps)\n",
    "        spike_data = spike_data.to(device)                                 #.to(device) mueve el tensor data al dispositivo especificado para. Data: [batch_size, num_inputs], targets: \n",
    "        targets = targets.to(device) \n",
    "        spike_data = spike_data.view(num_steps, data.size(0), -1)\n",
    "        optimizer.zero_grad()\n",
    "        outputs, mem_rec = net(spike_data)\n",
    "\n",
    "        loss_val = torch.zeros((1), dtype=dtype, device=device)\n",
    "        for step in range(num_steps):\n",
    "            loss_val += CE_loss(mem_rec[step], targets)           #loss devuelve un escalar\n",
    "        loss_hist.append(loss_val.item())\n",
    "        loss_val.backward()\n",
    "        optimizer.step()  \n",
    "    print(f\"Epoch [{epoch+1}/{num_epochs}], Loss: {loss_val.item():.4f}\")"
   ]
  },
  {
   "cell_type": "code",
   "execution_count": 43,
   "metadata": {},
   "outputs": [
    {
     "name": "stdout",
     "output_type": "stream",
     "text": [
      "Accuracy: 88.99%\n"
     ]
    }
   ],
   "source": [
    "# Prueba del modelo\n",
    "net.eval()\n",
    "correct = 0\n",
    "total = 0\n",
    "with torch.no_grad():\n",
    "    for data, targets in test_loader:\n",
    "        targets = targets.to(device)\n",
    "        spike_data = spikegen.rate(data, num_steps=num_steps)\n",
    "        spike_data = spike_data.to(device)\n",
    "        spike_data = spike_data.view(num_steps, data.size(0), -1)\n",
    "        outputs, mem = net(spike_data)\n",
    "        #_, predicted = torch.max(outputs, 1)\n",
    "        _, pred = outputs.sum(dim=0).max(1)\n",
    "        correct += (pred == targets).sum().item()\n",
    "        total += targets.size(0)\n",
    "        #correct += (predicted == targets).sum().item()\n",
    "\n",
    "print(f\"Accuracy: {100 * correct / total:.2f}%\")\n",
    "accuracy = 100. * correct / len(test_loader.dataset)"
   ]
  }
 ],
 "metadata": {
  "kernelspec": {
   "display_name": "pytorch",
   "language": "python",
   "name": "python3"
  },
  "language_info": {
   "codemirror_mode": {
    "name": "ipython",
    "version": 3
   },
   "file_extension": ".py",
   "mimetype": "text/x-python",
   "name": "python",
   "nbconvert_exporter": "python",
   "pygments_lexer": "ipython3",
   "version": "3.8.16"
  }
 },
 "nbformat": 4,
 "nbformat_minor": 2
}
